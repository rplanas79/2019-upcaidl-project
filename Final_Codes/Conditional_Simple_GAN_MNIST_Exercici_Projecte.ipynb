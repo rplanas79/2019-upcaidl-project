{
  "nbformat": 4,
  "nbformat_minor": 0,
  "metadata": {
    "colab": {
      "name": "Conditional Simple GAN - MNIST - Exercici Projecte.ipynb",
      "provenance": [],
      "collapsed_sections": []
    },
    "kernelspec": {
      "name": "python3",
      "display_name": "Python 3"
    },
    "accelerator": "GPU"
  },
  "cells": [
    {
      "cell_type": "markdown",
      "metadata": {
        "id": "MbRVQ73oRVAO",
        "colab_type": "text"
      },
      "source": [
        "# Conditional GAN - MNIST\n",
        "\n",
        "---\n",
        "\n",
        "In this notebook will learn about Generative Adversarial Networks by implementing a conditional GAN to generate MNIST digits from noise.\n",
        "\n",
        "**Important:** Set the Cloab environment to run on GPU\n",
        "\n",
        "Author: Albert Pumarola\n",
        "\n",
        "AIDL winter 2.019-2.020 Final Project\n",
        "\n",
        "Team: Bargallo Enric, Navarro Alex, Planas Ramon, Treviño Nuria\n",
        "\n",
        "Task: Conditional GAN - MNIST"
      ]
    },
    {
      "cell_type": "code",
      "metadata": {
        "id": "NcZGU22N9IX2",
        "colab_type": "code",
        "colab": {}
      },
      "source": [
        "%load_ext autoreload\n",
        "%matplotlib inline\n",
        "%autoreload 2\n",
        "\n",
        "import torch\n",
        "from torch import nn, optim\n",
        "from torch.autograd.variable import Variable\n",
        "from torchvision import transforms, datasets, utils\n",
        "from IPython.display import display\n",
        "from PIL import Image\n",
        "import numpy as np\n",
        "import math"
      ],
      "execution_count": 0,
      "outputs": []
    },
    {
      "cell_type": "markdown",
      "metadata": {
        "id": "1QxHcC_iDR9i",
        "colab_type": "text"
      },
      "source": [
        "## Utils\n",
        "Some utils with minor importance"
      ]
    },
    {
      "cell_type": "code",
      "metadata": {
        "id": "iiTaSkPaDV8r",
        "colab_type": "code",
        "colab": {}
      },
      "source": [
        "def norm_noise(size):\n",
        "    return torch.cuda.FloatTensor(size, 100).normal_()\n",
        "  \n",
        "def init_weights(m):\n",
        "    classname = m.__class__.__name__\n",
        "    if classname.find('Conv') != -1 or classname.find('BatchNorm') != -1:\n",
        "        m.weight.data.normal_(0.00, 0.02)\n",
        "  \n",
        "def display_batch_images(img, imtype=np.uint8, unnormalize=True, nrows=None, mean=0.5, std=0.5):\n",
        "    # select a sample or create grid if img is a batch\n",
        "    if len(img.shape) == 4:\n",
        "        nrows = nrows if nrows is not None else int(math.sqrt(img.size(0)))\n",
        "        img = utils.make_grid(img, nrow=nrows)\n",
        "\n",
        "    # unnormalize\n",
        "    img = img.cpu().float()\n",
        "    img = (img*std+mean)*255\n",
        "\n",
        "    # to numpy\n",
        "    image_numpy = img.numpy()\n",
        "    image_numpy = np.transpose(image_numpy, (1, 2, 0))\n",
        "    display(Image.fromarray(image_numpy.astype(imtype))) "
      ],
      "execution_count": 0,
      "outputs": []
    },
    {
      "cell_type": "markdown",
      "metadata": {
        "id": "P1AaRIWR9L5m",
        "colab_type": "text"
      },
      "source": [
        "## Dataset\n",
        "Download and prepare dataset\n"
      ]
    },
    {
      "cell_type": "code",
      "metadata": {
        "id": "UPMYeOfU9SyD",
        "colab_type": "code",
        "colab": {}
      },
      "source": [
        "def mnist():\n",
        "    tf = transforms.Compose(\n",
        "        [\n",
        "            transforms.Resize(32, interpolation=0),\n",
        "            transforms.ToTensor(),\n",
        "            transforms.Normalize((0.5,), (.5,))\n",
        "        ])\n",
        "    return datasets.MNIST(root='./data/', train=True, transform=tf, download=True)"
      ],
      "execution_count": 0,
      "outputs": []
    },
    {
      "cell_type": "markdown",
      "metadata": {
        "id": "QDFqjh4T9a7W",
        "colab_type": "text"
      },
      "source": [
        "## Data Loader\n",
        "Create a data loader for the MNIST dataset"
      ]
    },
    {
      "cell_type": "code",
      "metadata": {
        "id": "TKNGNOBQ9U4w",
        "colab_type": "code",
        "colab": {}
      },
      "source": [
        "batch_size = 200\n",
        "data_loader = torch.utils.data.DataLoader(mnist(), batch_size=batch_size, shuffle=True)"
      ],
      "execution_count": 0,
      "outputs": []
    },
    {
      "cell_type": "markdown",
      "metadata": {
        "id": "MFEBhsZb96T7",
        "colab_type": "text"
      },
      "source": [
        "## Networks\n",
        "First, lets define our simple generator"
      ]
    },
    {
      "cell_type": "code",
      "metadata": {
        "id": "yA2vnc-G9-Nl",
        "colab_type": "code",
        "colab": {}
      },
      "source": [
        "class Generator(torch.nn.Module):\n",
        "    \n",
        "    def __init__(self):\n",
        "        super(Generator, self).__init__()\n",
        "      \n",
        "        self._fc = torch.nn.Linear(110, 1024*4*4)\n",
        "        self.label_emb = nn.Embedding(10, 10)\n",
        "\n",
        "        self._conv1 = nn.Sequential(\n",
        "            nn.ConvTranspose2d(in_channels=1024, out_channels=512, kernel_size=4, stride=2, padding=1, bias=False),\n",
        "            nn.BatchNorm2d(512),\n",
        "            nn.ReLU(inplace=True)\n",
        "        )\n",
        "        self._conv2 = nn.Sequential(\n",
        "            nn.ConvTranspose2d(in_channels=512, out_channels=256, kernel_size=4, stride=2, padding=1, bias=False),\n",
        "            nn.BatchNorm2d(256),\n",
        "            nn.ReLU(inplace=True)\n",
        "        )\n",
        "        self._conv3 = nn.Sequential(\n",
        "            nn.ConvTranspose2d(in_channels=256, out_channels=1, kernel_size=4, stride=2, padding=1, bias=False),\n",
        "            torch.nn.Tanh()\n",
        "        )\n",
        "\n",
        "    def forward(self, z, labels):\n",
        "        # Noise to image + conditional labels\n",
        "        z = z.view(z.size(0), 100)\n",
        "        c = self.label_emb(labels)\n",
        "        x = torch.cat([z, c], dim=1)\n",
        "\n",
        "        x = self._fc(x)\n",
        "        #print(f\"x.shape[0]: {x.shape[0]}\")\n",
        "        x = self._conv1(x.view(x.shape[0], 1024, 4, 4))\n",
        "        x = self._conv2(x)\n",
        "        return self._conv3(x)"
      ],
      "execution_count": 0,
      "outputs": []
    },
    {
      "cell_type": "markdown",
      "metadata": {
        "id": "LnSOu07Q-FLh",
        "colab_type": "text"
      },
      "source": [
        "Similarly lets define a simple discriminator"
      ]
    },
    {
      "cell_type": "code",
      "metadata": {
        "id": "fI6fdck8-Q2N",
        "colab_type": "code",
        "colab": {}
      },
      "source": [
        "class Discriminator(torch.nn.Module):\n",
        "    \n",
        "    def __init__(self):\n",
        "        super(Discriminator, self).__init__()\n",
        "        \n",
        "        self.label_emb = nn.Embedding(10, 1024)\n",
        "          \n",
        "        self._conv1 = nn.Sequential(\n",
        "            nn.Conv2d(in_channels=2, out_channels=128, kernel_size=4, stride=2, padding=1, bias=False),\n",
        "            nn.LeakyReLU(0.2, inplace=True)\n",
        "        )\n",
        "\n",
        "        self._conv2 = nn.Sequential(\n",
        "            nn.Conv2d(in_channels=128, out_channels=256, kernel_size=4, stride=2, padding=1, bias=False),\n",
        "            nn.BatchNorm2d(256),\n",
        "            nn.LeakyReLU(0.2, inplace=True)\n",
        "        )\n",
        "\n",
        "        self._conv3 = nn.Sequential(\n",
        "            nn.Conv2d(in_channels=256, out_channels=512, kernel_size=4, stride=2, padding=1, bias=False),\n",
        "            nn.BatchNorm2d(512),\n",
        "            nn.LeakyReLU(0.2, inplace=True)\n",
        "        )\n",
        "        \n",
        "        self._fc = nn.Sequential(\n",
        "            nn.Linear(512*4*4, 1),\n",
        "            nn.Sigmoid()\n",
        "        )\n",
        "\n",
        "    def forward(self, x, labels):\n",
        "        # Classify image as fake or real / EB: decision or judgement for fake or real?\n",
        "        labels = self.label_emb(labels)\n",
        "        labels = labels.view(labels.size(0),1,32,32)\n",
        "        x = torch.cat([x, labels], dim=1)\n",
        "        \n",
        "        x = self._conv1(x)\n",
        "        x = self._conv2(x)\n",
        "        x = self._conv3(x)\n",
        "        return self._fc(x.view(-1, 512*4*4)) "
      ],
      "execution_count": 0,
      "outputs": []
    },
    {
      "cell_type": "markdown",
      "metadata": {
        "id": "_ZVzk2jo-X9E",
        "colab_type": "text"
      },
      "source": [
        "## Model\n",
        "Now lets create the core of our task, the model.  Remember GANs loss:\n",
        "\n",
        "$\\underset{G}{\\text{min}} \\underset{D}{\\text{max}}V(D,G) = \\mathbb{E}_{x\\sim p_{data}(x)}\\big[logD(x)\\big] + \\mathbb{E}_{z\\sim p_{z}(z)}\\big[log(1-D(G(z)))\\big]$"
      ]
    },
    {
      "cell_type": "code",
      "metadata": {
        "id": "tL2y10N0-Y4U",
        "colab_type": "code",
        "colab": {}
      },
      "source": [
        "class Model:\n",
        "    # --------------------------\n",
        "    # -- PREPARE MODEL\n",
        "    # --------------------------\n",
        "    \n",
        "    def __init__(self, batch_size):\n",
        "        self._create_networks()\n",
        "        self._create_optimizer()\n",
        "        self._init_criterion(batch_size)\n",
        "        \n",
        "    def _create_networks(self):\n",
        "        # create networks\n",
        "        self._generator = Generator()\n",
        "        self._discriminator = Discriminator()\n",
        "        \n",
        "        # init weights\n",
        "        self._generator.apply(init_weights)\n",
        "        self._discriminator.apply(init_weights)\n",
        "        \n",
        "        # move to cuda\n",
        "        self._generator.cuda()\n",
        "        self._discriminator.cuda()\n",
        "        \n",
        "    def _create_optimizer(self):\n",
        "        # generator optimizer\n",
        "        self._opt_g = torch.optim.Adam(self._generator.parameters(), lr=0.0002, betas=(0.5, 0.999))\n",
        "        \n",
        "        # discriminator optimizer\n",
        "        self._opt_d = torch.optim.Adam(self._discriminator.parameters(), lr=0.0002, betas=(0.5, 0.999))\n",
        "        \n",
        "    def _init_criterion(self, batch_size):\n",
        "        self._criterion = nn.BCELoss()\n",
        "        self._label_real = Variable(torch.ones(batch_size, 1)).cuda()\n",
        "        self._label_fake = Variable(torch.zeros(batch_size, 1)).cuda()\n",
        "        \n",
        "    # --------------------------\n",
        "    # -- Generate Fake Samples\n",
        "    # --------------------------\n",
        "    \n",
        "    def generate_samples(self, batch_size, z=None):\n",
        "        # sample random noise\n",
        "        if z is None:\n",
        "            z = norm_noise(batch_size)\n",
        "            \n",
        "        #generate fake samples out of the random noise z\n",
        "        fake_labels = Variable(torch.LongTensor(np.random.randint(0, 10, batch_size))).cuda()\n",
        "        fake_samples = self._generator(z, fake_labels)\n",
        "\n",
        "        return fake_samples\n",
        "    \n",
        "    def generator(self, z, label):\n",
        "        sample = self._generator(z, label)\n",
        "        return sample\n",
        "\n",
        "    # --------------------------\n",
        "    # -- Optimize Model\n",
        "    # --------------------------\n",
        "        \n",
        "    def step_optimization(self, real_samples, labels):\n",
        "        # generate fake samples + fake labels\n",
        "        fake_labels = Variable(torch.LongTensor(np.random.randint(0, 10, batch_size))).cuda()\n",
        "        z = norm_noise(batch_size)\n",
        "        fake_samples = self._generator(z, fake_labels)\n",
        "        #fake_samples = self.generate_samples(real_samples.size(0))\n",
        "\n",
        "        \n",
        "        # optimize generator\n",
        "        loss_g = self._step_opt_g(fake_samples, fake_labels)\n",
        "        \n",
        "        # optimize discriminator\n",
        "        loss_d = self._step_opt_d(real_samples, fake_samples.detach(), labels, fake_labels)\n",
        "        \n",
        "        return loss_g, loss_d\n",
        "      \n",
        "    def _step_opt_g(self, fake_samples, labels):\n",
        "        # Reset gradients\n",
        "        self._opt_g.zero_grad()\n",
        "        \n",
        "        # Calculate generator loss - 2 lines\n",
        "        estim_fake = self._discriminator(fake_samples, labels)\n",
        "        loss = self._criterion(estim_fake, self._label_real)\n",
        "        loss.backward()\n",
        "        \n",
        "        # Update weights\n",
        "        self._opt_g.step()\n",
        "        \n",
        "        return loss.item()\n",
        "        \n",
        "    def _step_opt_d(self, real_samples, fake_samples, labels, fake_labels):\n",
        "        # Reset gradients\n",
        "        self._opt_d.zero_grad()\n",
        "\n",
        "        # Calculate discriminator loss for real samples\n",
        "        estim_real = self._discriminator(real_samples, labels)\n",
        "        loss_real = self._criterion(estim_real, self._label_real)\n",
        "\n",
        "        # Calculate discriminator loss for fake samples\n",
        "        estim_fake = self._discriminator(fake_samples, fake_labels)\n",
        "        loss_fake = self._criterion(estim_fake, self._label_fake)\n",
        "        \n",
        "        # Total discriminator loss\n",
        "        loss = (loss_real + loss_fake) / 2\n",
        "        loss.backward()\n",
        "\n",
        "        # Update weights\n",
        "        self._opt_d.step()\n",
        "\n",
        "        return loss_real.item(), loss_fake.item()\n",
        "        \n",
        "  "
      ],
      "execution_count": 0,
      "outputs": []
    },
    {
      "cell_type": "markdown",
      "metadata": {
        "id": "iWS0uvRJEHGd",
        "colab_type": "text"
      },
      "source": [
        "## Train"
      ]
    },
    {
      "cell_type": "code",
      "metadata": {
        "id": "knwG43nIEJM8",
        "colab_type": "code",
        "colab": {}
      },
      "source": [
        "num_epochs = 30\n",
        "num_val_samples = 25\n",
        "z_val = norm_noise(num_val_samples)\n",
        "model = Model(batch_size)"
      ],
      "execution_count": 0,
      "outputs": []
    },
    {
      "cell_type": "markdown",
      "metadata": {
        "id": "eTPYB2DtEFLm",
        "colab_type": "text"
      },
      "source": [
        ""
      ]
    },
    {
      "cell_type": "code",
      "metadata": {
        "id": "pd3efLyTEQSE",
        "colab_type": "code",
        "outputId": "9ce99b9d-8dfc-4796-f1bc-ad056d69e8ec",
        "colab": {
          "base_uri": "https://localhost:8080/",
          "height": 1000
        }
      },
      "source": [
        "for epoch in range(num_epochs):\n",
        "  \n",
        "    # Train epoch\n",
        "    for n_batch, (real_samples, real_labels) in enumerate(data_loader):\n",
        "        \n",
        "        # Prepare batch data\n",
        "        real_samples = Variable(real_samples).cuda()\n",
        "        real_labels = Variable(real_labels).cuda()\n",
        "          \n",
        "        # Update model weights\n",
        "        loss_g, loss_d = model.step_optimization(real_samples, real_labels)\n",
        "        \n",
        "        # Show current loss\n",
        "        if (n_batch) % 50 == 0:\n",
        "            print(f\"epoch: {epoch}/{num_epochs}, batch: {n_batch}/{len(data_loader)}, G_loss: {loss_g}, D_loss: {loss_d}\")    \n",
        "          \n",
        "        # Show fake samples\n",
        "        #if (n_batch) % 100 == 0:\n",
        "            #val_fake_samples = model.generate_samples(num_val_samples, z=z_val).data.cpu()\n",
        "            #display_batch_images(val_fake_samples)"
      ],
      "execution_count": 9,
      "outputs": [
        {
          "output_type": "stream",
          "text": [
            "epoch: 0/30, batch: 0/300, G_loss: 0.6889280676841736, D_loss: (0.688183069229126, 0.6973925828933716)\n",
            "epoch: 0/30, batch: 50/300, G_loss: 2.490622043609619, D_loss: (0.10270281136035919, 0.09022609889507294)\n",
            "epoch: 0/30, batch: 100/300, G_loss: 1.1485490798950195, D_loss: (0.22167204320430756, 0.4599887728691101)\n",
            "epoch: 0/30, batch: 150/300, G_loss: 2.612558364868164, D_loss: (0.4575235843658447, 0.09342794120311737)\n",
            "epoch: 0/30, batch: 200/300, G_loss: 2.1645257472991943, D_loss: (0.6406660676002502, 0.1388041377067566)\n",
            "epoch: 0/30, batch: 250/300, G_loss: 1.9466160535812378, D_loss: (0.6321413516998291, 0.1889229565858841)\n",
            "epoch: 1/30, batch: 0/300, G_loss: 2.724048137664795, D_loss: (1.3150137662887573, 0.08432637155056)\n",
            "epoch: 1/30, batch: 50/300, G_loss: 0.3680131435394287, D_loss: (0.14036621153354645, 1.4592289924621582)\n",
            "epoch: 1/30, batch: 100/300, G_loss: 1.2405688762664795, D_loss: (0.7147563099861145, 0.4001283347606659)\n",
            "epoch: 1/30, batch: 150/300, G_loss: 1.5514593124389648, D_loss: (0.7749205827713013, 0.29385507106781006)\n",
            "epoch: 1/30, batch: 200/300, G_loss: 1.1265473365783691, D_loss: (0.4645765423774719, 0.45133841037750244)\n",
            "epoch: 1/30, batch: 250/300, G_loss: 1.4675310850143433, D_loss: (0.6046326756477356, 0.33104678988456726)\n",
            "epoch: 2/30, batch: 0/300, G_loss: 1.315751314163208, D_loss: (0.5053463578224182, 0.3612169325351715)\n",
            "epoch: 2/30, batch: 50/300, G_loss: 0.9172151684761047, D_loss: (0.28835219144821167, 0.6038862466812134)\n",
            "epoch: 2/30, batch: 100/300, G_loss: 0.9839251637458801, D_loss: (0.3737073242664337, 0.5817798376083374)\n",
            "epoch: 2/30, batch: 150/300, G_loss: 0.5516875982284546, D_loss: (0.2015778124332428, 1.0330872535705566)\n",
            "epoch: 2/30, batch: 200/300, G_loss: 1.3301167488098145, D_loss: (0.6302326321601868, 0.36229851841926575)\n",
            "epoch: 2/30, batch: 250/300, G_loss: 1.237923264503479, D_loss: (0.5091813802719116, 0.4405915141105652)\n",
            "epoch: 3/30, batch: 0/300, G_loss: 1.0750794410705566, D_loss: (0.3561003506183624, 0.5096638202667236)\n",
            "epoch: 3/30, batch: 50/300, G_loss: 0.8361988067626953, D_loss: (0.43835678696632385, 0.6838495135307312)\n",
            "epoch: 3/30, batch: 100/300, G_loss: 0.575808048248291, D_loss: (0.2810782194137573, 0.9544441103935242)\n",
            "epoch: 3/30, batch: 150/300, G_loss: 1.3297961950302124, D_loss: (0.6791106462478638, 0.37524545192718506)\n",
            "epoch: 3/30, batch: 200/300, G_loss: 0.9375044107437134, D_loss: (0.6915133595466614, 0.5704978704452515)\n",
            "epoch: 3/30, batch: 250/300, G_loss: 1.3365745544433594, D_loss: (1.170414686203003, 0.3467014729976654)\n",
            "epoch: 4/30, batch: 0/300, G_loss: 0.4915839731693268, D_loss: (0.3212783932685852, 1.058354139328003)\n",
            "epoch: 4/30, batch: 50/300, G_loss: 0.45699557662010193, D_loss: (0.3829002380371094, 1.1214746236801147)\n",
            "epoch: 4/30, batch: 100/300, G_loss: 0.8436118960380554, D_loss: (0.49477899074554443, 0.6328209042549133)\n",
            "epoch: 4/30, batch: 150/300, G_loss: 0.9540186524391174, D_loss: (0.7323673963546753, 0.5430454611778259)\n",
            "epoch: 4/30, batch: 200/300, G_loss: 1.301816463470459, D_loss: (0.6536344885826111, 0.362272173166275)\n",
            "epoch: 4/30, batch: 250/300, G_loss: 1.3511689901351929, D_loss: (0.717759370803833, 0.35620447993278503)\n",
            "epoch: 5/30, batch: 0/300, G_loss: 0.9151633381843567, D_loss: (0.4730609953403473, 0.565545916557312)\n",
            "epoch: 5/30, batch: 50/300, G_loss: 1.1984704732894897, D_loss: (0.864422082901001, 0.40036049485206604)\n",
            "epoch: 5/30, batch: 100/300, G_loss: 0.7053916454315186, D_loss: (0.4779159426689148, 0.7320027351379395)\n",
            "epoch: 5/30, batch: 150/300, G_loss: 1.246964454650879, D_loss: (0.47845324873924255, 0.3760263919830322)\n",
            "epoch: 5/30, batch: 200/300, G_loss: 1.0236480236053467, D_loss: (0.47358524799346924, 0.485513299703598)\n",
            "epoch: 5/30, batch: 250/300, G_loss: 1.5797038078308105, D_loss: (0.7740635871887207, 0.2566356658935547)\n",
            "epoch: 6/30, batch: 0/300, G_loss: 1.0539753437042236, D_loss: (0.3418934643268585, 0.4832342863082886)\n",
            "epoch: 6/30, batch: 50/300, G_loss: 1.0122411251068115, D_loss: (0.7191068530082703, 0.50356525182724)\n",
            "epoch: 6/30, batch: 100/300, G_loss: 0.4597371220588684, D_loss: (0.4899918735027313, 1.0667814016342163)\n",
            "epoch: 6/30, batch: 150/300, G_loss: 1.0186095237731934, D_loss: (0.7595791816711426, 0.4997430443763733)\n",
            "epoch: 6/30, batch: 200/300, G_loss: 0.9840584397315979, D_loss: (0.6080192923545837, 0.5294768810272217)\n",
            "epoch: 6/30, batch: 250/300, G_loss: 0.6399147510528564, D_loss: (0.34527987241744995, 0.7989994287490845)\n",
            "epoch: 7/30, batch: 0/300, G_loss: 1.3912718296051025, D_loss: (0.9229128956794739, 0.3170616626739502)\n",
            "epoch: 7/30, batch: 50/300, G_loss: 1.095420479774475, D_loss: (0.3464905619621277, 0.4381057620048523)\n",
            "epoch: 7/30, batch: 100/300, G_loss: 0.5015312433242798, D_loss: (0.7510849237442017, 0.9906291365623474)\n",
            "epoch: 7/30, batch: 150/300, G_loss: 1.6925287246704102, D_loss: (1.1624130010604858, 0.2290223091840744)\n",
            "epoch: 7/30, batch: 200/300, G_loss: 0.789609968662262, D_loss: (0.3137841820716858, 0.643368124961853)\n",
            "epoch: 7/30, batch: 250/300, G_loss: 1.6554561853408813, D_loss: (0.7313474416732788, 0.231447234749794)\n",
            "epoch: 8/30, batch: 0/300, G_loss: 1.418588399887085, D_loss: (0.5340632796287537, 0.30009448528289795)\n",
            "epoch: 8/30, batch: 50/300, G_loss: 0.5124987959861755, D_loss: (0.6544873118400574, 0.9707217216491699)\n",
            "epoch: 8/30, batch: 100/300, G_loss: 0.8973546028137207, D_loss: (0.6432169079780579, 0.5611588358879089)\n",
            "epoch: 8/30, batch: 150/300, G_loss: 0.5523104071617126, D_loss: (0.262142151594162, 0.9069350957870483)\n",
            "epoch: 8/30, batch: 200/300, G_loss: 0.5694091320037842, D_loss: (0.6379541158676147, 0.8739583492279053)\n",
            "epoch: 8/30, batch: 250/300, G_loss: 0.5345008969306946, D_loss: (0.4722742438316345, 0.9329400658607483)\n",
            "epoch: 9/30, batch: 0/300, G_loss: 0.9491331577301025, D_loss: (0.7466089725494385, 0.5143827199935913)\n",
            "epoch: 9/30, batch: 50/300, G_loss: 0.5878767967224121, D_loss: (0.46158355474472046, 0.85908043384552)\n",
            "epoch: 9/30, batch: 100/300, G_loss: 0.9901407361030579, D_loss: (0.5628116726875305, 0.49730318784713745)\n",
            "epoch: 9/30, batch: 150/300, G_loss: 0.6557912230491638, D_loss: (0.4499446451663971, 0.775821328163147)\n",
            "epoch: 9/30, batch: 200/300, G_loss: 0.8202444314956665, D_loss: (0.455022931098938, 0.6079208850860596)\n",
            "epoch: 9/30, batch: 250/300, G_loss: 0.3695956766605377, D_loss: (0.7655595541000366, 1.2188618183135986)\n",
            "epoch: 10/30, batch: 0/300, G_loss: 0.9479035139083862, D_loss: (0.6501922607421875, 0.5143522024154663)\n",
            "epoch: 10/30, batch: 50/300, G_loss: 0.5918674468994141, D_loss: (0.7596895694732666, 0.8467493653297424)\n",
            "epoch: 10/30, batch: 100/300, G_loss: 0.704986035823822, D_loss: (0.6733809113502502, 0.7036470174789429)\n",
            "epoch: 10/30, batch: 150/300, G_loss: 0.8586092591285706, D_loss: (1.3570785522460938, 0.5833317041397095)\n",
            "epoch: 10/30, batch: 200/300, G_loss: 0.5291462540626526, D_loss: (0.7831365466117859, 0.9428260922431946)\n",
            "epoch: 10/30, batch: 250/300, G_loss: 1.026779055595398, D_loss: (0.303130179643631, 0.46953409910202026)\n",
            "epoch: 11/30, batch: 0/300, G_loss: 0.9361940622329712, D_loss: (0.680646538734436, 0.5192473530769348)\n",
            "epoch: 11/30, batch: 50/300, G_loss: 1.1198890209197998, D_loss: (0.7708864808082581, 0.4257553219795227)\n",
            "epoch: 11/30, batch: 100/300, G_loss: 1.4559645652770996, D_loss: (0.6778874397277832, 0.3010234236717224)\n",
            "epoch: 11/30, batch: 150/300, G_loss: 0.879476010799408, D_loss: (0.8085455298423767, 0.568362832069397)\n",
            "epoch: 11/30, batch: 200/300, G_loss: 0.8265274167060852, D_loss: (1.415062665939331, 0.6022828817367554)\n",
            "epoch: 11/30, batch: 250/300, G_loss: 0.3057754635810852, D_loss: (0.2594276964664459, 1.3900635242462158)\n",
            "epoch: 12/30, batch: 0/300, G_loss: 1.4735095500946045, D_loss: (0.32298412919044495, 0.27381280064582825)\n",
            "epoch: 12/30, batch: 50/300, G_loss: 0.7272668480873108, D_loss: (0.3237724006175995, 0.6925264000892639)\n",
            "epoch: 12/30, batch: 100/300, G_loss: 2.1509294509887695, D_loss: (0.7324371933937073, 0.13345269858837128)\n",
            "epoch: 12/30, batch: 150/300, G_loss: 0.7243707180023193, D_loss: (0.46579238772392273, 0.695591151714325)\n",
            "epoch: 12/30, batch: 200/300, G_loss: 0.7411324381828308, D_loss: (0.5811826586723328, 0.6823893189430237)\n",
            "epoch: 12/30, batch: 250/300, G_loss: 0.7190966606140137, D_loss: (0.31336265802383423, 0.7097029089927673)\n",
            "epoch: 13/30, batch: 0/300, G_loss: 2.150651693344116, D_loss: (0.678850531578064, 0.1374635100364685)\n",
            "epoch: 13/30, batch: 50/300, G_loss: 0.7262396812438965, D_loss: (0.3529442846775055, 0.6928648948669434)\n",
            "epoch: 13/30, batch: 100/300, G_loss: 1.0438860654830933, D_loss: (1.0044883489608765, 0.45083293318748474)\n",
            "epoch: 13/30, batch: 150/300, G_loss: 1.2214114665985107, D_loss: (0.5343309044837952, 0.37072059512138367)\n",
            "epoch: 13/30, batch: 200/300, G_loss: 0.5724368691444397, D_loss: (0.7543110847473145, 0.8688976764678955)\n",
            "epoch: 13/30, batch: 250/300, G_loss: 0.8782256841659546, D_loss: (0.6494671106338501, 0.5573745369911194)\n",
            "epoch: 14/30, batch: 0/300, G_loss: 0.4127267599105835, D_loss: (0.8290820121765137, 1.1240239143371582)\n",
            "epoch: 14/30, batch: 50/300, G_loss: 1.2903876304626465, D_loss: (2.0382049083709717, 0.3415553569793701)\n",
            "epoch: 14/30, batch: 100/300, G_loss: 0.7354538440704346, D_loss: (0.31455931067466736, 0.692518413066864)\n",
            "epoch: 14/30, batch: 150/300, G_loss: 0.7335473895072937, D_loss: (0.429716020822525, 0.6863623857498169)\n",
            "epoch: 14/30, batch: 200/300, G_loss: 1.189581036567688, D_loss: (0.37279683351516724, 0.3781570792198181)\n",
            "epoch: 14/30, batch: 250/300, G_loss: 1.2651439905166626, D_loss: (0.5739049315452576, 0.34867072105407715)\n",
            "epoch: 15/30, batch: 0/300, G_loss: 2.124974250793457, D_loss: (0.5235165357589722, 0.14092127978801727)\n",
            "epoch: 15/30, batch: 50/300, G_loss: 1.206916332244873, D_loss: (0.6371497511863708, 0.3821406960487366)\n",
            "epoch: 15/30, batch: 100/300, G_loss: 1.180189609527588, D_loss: (0.28516289591789246, 0.3841800391674042)\n",
            "epoch: 15/30, batch: 150/300, G_loss: 0.6608274579048157, D_loss: (0.8721755743026733, 0.7523108720779419)\n",
            "epoch: 15/30, batch: 200/300, G_loss: 0.8153218030929565, D_loss: (0.45216819643974304, 0.6047195196151733)\n",
            "epoch: 15/30, batch: 250/300, G_loss: 0.78275465965271, D_loss: (1.1633350849151611, 0.6417952179908752)\n",
            "epoch: 16/30, batch: 0/300, G_loss: 1.108599066734314, D_loss: (0.44531476497650146, 0.42117950320243835)\n",
            "epoch: 16/30, batch: 50/300, G_loss: 0.6168102025985718, D_loss: (0.5506487488746643, 0.818854570388794)\n",
            "epoch: 16/30, batch: 100/300, G_loss: 1.3524454832077026, D_loss: (0.5242202877998352, 0.3194318413734436)\n",
            "epoch: 16/30, batch: 150/300, G_loss: 1.8048222064971924, D_loss: (0.45986026525497437, 0.1915726512670517)\n",
            "epoch: 16/30, batch: 200/300, G_loss: 1.3284605741500854, D_loss: (0.6704497337341309, 0.3211175203323364)\n",
            "epoch: 16/30, batch: 250/300, G_loss: 0.7012290358543396, D_loss: (0.4586294889450073, 0.7098532915115356)\n",
            "epoch: 17/30, batch: 0/300, G_loss: 0.504080593585968, D_loss: (0.4625789523124695, 0.9641568064689636)\n",
            "epoch: 17/30, batch: 50/300, G_loss: 0.9611842632293701, D_loss: (0.9154244065284729, 0.5028331279754639)\n",
            "epoch: 17/30, batch: 100/300, G_loss: 1.0918550491333008, D_loss: (1.965691328048706, 0.4268629550933838)\n",
            "epoch: 17/30, batch: 150/300, G_loss: 1.3682632446289062, D_loss: (0.6677926778793335, 0.3118695020675659)\n",
            "epoch: 17/30, batch: 200/300, G_loss: 1.5297962427139282, D_loss: (0.6342297792434692, 0.254725843667984)\n",
            "epoch: 17/30, batch: 250/300, G_loss: 0.4729991853237152, D_loss: (0.827948808670044, 1.0068955421447754)\n",
            "epoch: 18/30, batch: 0/300, G_loss: 1.5560917854309082, D_loss: (1.3527228832244873, 0.24762460589408875)\n",
            "epoch: 18/30, batch: 50/300, G_loss: 0.5847747325897217, D_loss: (0.3930576741695404, 0.851727306842804)\n",
            "epoch: 18/30, batch: 100/300, G_loss: 0.6825580596923828, D_loss: (0.12565840780735016, 0.7377122640609741)\n",
            "epoch: 18/30, batch: 150/300, G_loss: 0.8494640588760376, D_loss: (0.22775129973888397, 0.5873666405677795)\n",
            "epoch: 18/30, batch: 200/300, G_loss: 0.5000196695327759, D_loss: (0.6971179842948914, 0.9640546441078186)\n",
            "epoch: 18/30, batch: 250/300, G_loss: 0.8594302535057068, D_loss: (0.2764165997505188, 0.5706989169120789)\n",
            "epoch: 19/30, batch: 0/300, G_loss: 0.7348602414131165, D_loss: (0.31638699769973755, 0.6892805695533752)\n",
            "epoch: 19/30, batch: 50/300, G_loss: 0.8035836219787598, D_loss: (0.38674283027648926, 0.6195030212402344)\n",
            "epoch: 19/30, batch: 100/300, G_loss: 1.3675074577331543, D_loss: (0.5259436964988708, 0.31087958812713623)\n",
            "epoch: 19/30, batch: 150/300, G_loss: 1.0212706327438354, D_loss: (0.5198798775672913, 0.48446258902549744)\n",
            "epoch: 19/30, batch: 200/300, G_loss: 1.8154747486114502, D_loss: (0.8378316760063171, 0.18764854967594147)\n",
            "epoch: 19/30, batch: 250/300, G_loss: 0.8358810544013977, D_loss: (0.8568723201751709, 0.5960221290588379)\n",
            "epoch: 20/30, batch: 0/300, G_loss: 1.4952590465545654, D_loss: (0.585330069065094, 0.2751721143722534)\n",
            "epoch: 20/30, batch: 50/300, G_loss: 1.0817142724990845, D_loss: (0.4862007200717926, 0.43131333589553833)\n",
            "epoch: 20/30, batch: 100/300, G_loss: 1.4715602397918701, D_loss: (0.746001124382019, 0.27421674132347107)\n",
            "epoch: 20/30, batch: 150/300, G_loss: 1.0917385816574097, D_loss: (0.4902726411819458, 0.43367671966552734)\n",
            "epoch: 20/30, batch: 200/300, G_loss: 1.706624150276184, D_loss: (1.1950114965438843, 0.21271276473999023)\n",
            "epoch: 20/30, batch: 250/300, G_loss: 1.4699547290802002, D_loss: (0.44197818636894226, 0.2856498956680298)\n",
            "epoch: 21/30, batch: 0/300, G_loss: 0.7479866743087769, D_loss: (0.392681360244751, 0.6712943315505981)\n",
            "epoch: 21/30, batch: 50/300, G_loss: 0.7076767086982727, D_loss: (0.47035709023475647, 0.7093917727470398)\n",
            "epoch: 21/30, batch: 100/300, G_loss: 0.7388880848884583, D_loss: (0.2959371507167816, 0.6817509531974792)\n",
            "epoch: 21/30, batch: 150/300, G_loss: 1.2608314752578735, D_loss: (0.23350393772125244, 0.35104072093963623)\n",
            "epoch: 21/30, batch: 200/300, G_loss: 0.945472776889801, D_loss: (0.7308883666992188, 0.5086774826049805)\n",
            "epoch: 21/30, batch: 250/300, G_loss: 1.2591766119003296, D_loss: (0.24979142844676971, 0.3492160439491272)\n",
            "epoch: 22/30, batch: 0/300, G_loss: 0.7937324047088623, D_loss: (1.1286871433258057, 0.6272239089012146)\n",
            "epoch: 22/30, batch: 50/300, G_loss: 1.4843039512634277, D_loss: (0.6353008151054382, 0.2681276798248291)\n",
            "epoch: 22/30, batch: 100/300, G_loss: 0.6834136843681335, D_loss: (0.9144368767738342, 0.7271632552146912)\n",
            "epoch: 22/30, batch: 150/300, G_loss: 1.3783924579620361, D_loss: (0.20648616552352905, 0.31136325001716614)\n",
            "epoch: 22/30, batch: 200/300, G_loss: 0.9524678587913513, D_loss: (0.35361507534980774, 0.5162331461906433)\n",
            "epoch: 22/30, batch: 250/300, G_loss: 0.47010692954063416, D_loss: (0.5350940227508545, 1.011136531829834)\n",
            "epoch: 23/30, batch: 0/300, G_loss: 0.7709403038024902, D_loss: (0.7986228466033936, 0.6593881845474243)\n",
            "epoch: 23/30, batch: 50/300, G_loss: 1.1780250072479248, D_loss: (0.533659040927887, 0.3861970901489258)\n",
            "epoch: 23/30, batch: 100/300, G_loss: 1.3900129795074463, D_loss: (0.7832004427909851, 0.30153876543045044)\n",
            "epoch: 23/30, batch: 150/300, G_loss: 0.5210912227630615, D_loss: (0.24857042729854584, 0.9373752474784851)\n",
            "epoch: 23/30, batch: 200/300, G_loss: 0.7703350186347961, D_loss: (0.883396327495575, 0.644562304019928)\n",
            "epoch: 23/30, batch: 250/300, G_loss: 0.8565436601638794, D_loss: (0.41790252923965454, 0.5788534283638)\n",
            "epoch: 24/30, batch: 0/300, G_loss: 1.2888466119766235, D_loss: (0.7365131974220276, 0.3437667787075043)\n",
            "epoch: 24/30, batch: 50/300, G_loss: 1.103529453277588, D_loss: (0.3258109986782074, 0.42945653200149536)\n",
            "epoch: 24/30, batch: 100/300, G_loss: 0.8661743402481079, D_loss: (0.32258743047714233, 0.5671877861022949)\n",
            "epoch: 24/30, batch: 150/300, G_loss: 0.7932388186454773, D_loss: (0.8580409288406372, 0.630902111530304)\n",
            "epoch: 24/30, batch: 200/300, G_loss: 0.1314011812210083, D_loss: (0.12306243926286697, 2.153867483139038)\n",
            "epoch: 24/30, batch: 250/300, G_loss: 1.3948129415512085, D_loss: (1.4599905014038086, 0.29784002900123596)\n",
            "epoch: 25/30, batch: 0/300, G_loss: 1.179378867149353, D_loss: (0.38419315218925476, 0.39162182807922363)\n",
            "epoch: 25/30, batch: 50/300, G_loss: 1.4947760105133057, D_loss: (0.23465093970298767, 0.2692280113697052)\n",
            "epoch: 25/30, batch: 100/300, G_loss: 0.42894163727760315, D_loss: (0.40254801511764526, 1.0921281576156616)\n",
            "epoch: 25/30, batch: 150/300, G_loss: 1.1430436372756958, D_loss: (0.9956766366958618, 0.42064598202705383)\n",
            "epoch: 25/30, batch: 200/300, G_loss: 1.8966714143753052, D_loss: (0.3565573990345001, 0.17482416331768036)\n",
            "epoch: 25/30, batch: 250/300, G_loss: 1.0593222379684448, D_loss: (0.7724101543426514, 0.45299819111824036)\n",
            "epoch: 26/30, batch: 0/300, G_loss: 0.7544114589691162, D_loss: (0.36501842737197876, 0.6766706109046936)\n",
            "epoch: 26/30, batch: 50/300, G_loss: 1.4329767227172852, D_loss: (0.42735880613327026, 0.28648948669433594)\n",
            "epoch: 26/30, batch: 100/300, G_loss: 0.7781732678413391, D_loss: (0.2624581456184387, 0.6464175581932068)\n",
            "epoch: 26/30, batch: 150/300, G_loss: 1.0014373064041138, D_loss: (0.6091408729553223, 0.48539647459983826)\n",
            "epoch: 26/30, batch: 200/300, G_loss: 0.9932695627212524, D_loss: (0.5353140830993652, 0.4833444356918335)\n",
            "epoch: 26/30, batch: 250/300, G_loss: 0.3661988079547882, D_loss: (0.5788994431495667, 1.2327024936676025)\n",
            "epoch: 27/30, batch: 0/300, G_loss: 0.6703686714172363, D_loss: (0.27857163548469543, 0.7449591159820557)\n",
            "epoch: 27/30, batch: 50/300, G_loss: 0.4897662401199341, D_loss: (0.368129700422287, 0.9899008870124817)\n",
            "epoch: 27/30, batch: 100/300, G_loss: 1.2500592470169067, D_loss: (0.48356136679649353, 0.35756802558898926)\n",
            "epoch: 27/30, batch: 150/300, G_loss: 0.6338791251182556, D_loss: (0.3150826096534729, 0.7967954874038696)\n",
            "epoch: 27/30, batch: 200/300, G_loss: 1.6629582643508911, D_loss: (0.6417604088783264, 0.2232695072889328)\n",
            "epoch: 27/30, batch: 250/300, G_loss: 1.08796226978302, D_loss: (0.8172810077667236, 0.426588773727417)\n",
            "epoch: 28/30, batch: 0/300, G_loss: 0.47548502683639526, D_loss: (0.3186894655227661, 1.0129432678222656)\n",
            "epoch: 28/30, batch: 50/300, G_loss: 1.7639455795288086, D_loss: (1.1014517545700073, 0.2001151442527771)\n",
            "epoch: 28/30, batch: 100/300, G_loss: 2.248800277709961, D_loss: (0.8784700036048889, 0.11904916167259216)\n",
            "epoch: 28/30, batch: 150/300, G_loss: 0.36463889479637146, D_loss: (0.29084113240242004, 1.2357271909713745)\n",
            "epoch: 28/30, batch: 200/300, G_loss: 0.9962910413742065, D_loss: (0.3154401481151581, 0.49301815032958984)\n",
            "epoch: 28/30, batch: 250/300, G_loss: 1.5355371236801147, D_loss: (0.7059711217880249, 0.2639656662940979)\n",
            "epoch: 29/30, batch: 0/300, G_loss: 1.632917046546936, D_loss: (2.2393343448638916, 0.232976034283638)\n",
            "epoch: 29/30, batch: 50/300, G_loss: 0.6101998090744019, D_loss: (0.2834138572216034, 0.8246147036552429)\n",
            "epoch: 29/30, batch: 100/300, G_loss: 0.9979463219642639, D_loss: (0.3629601299762726, 0.49754706025123596)\n",
            "epoch: 29/30, batch: 150/300, G_loss: 0.7730497717857361, D_loss: (0.3492484986782074, 0.64957594871521)\n",
            "epoch: 29/30, batch: 200/300, G_loss: 1.8382116556167603, D_loss: (1.4087748527526855, 0.1856124848127365)\n",
            "epoch: 29/30, batch: 250/300, G_loss: 0.9021270275115967, D_loss: (0.5227143168449402, 0.5546712279319763)\n"
          ],
          "name": "stdout"
        }
      ]
    },
    {
      "cell_type": "code",
      "metadata": {
        "id": "TSsyAao5f0Dw",
        "colab_type": "code",
        "outputId": "8f6f0db1-da98-4c64-d9e9-334a129eaea1",
        "colab": {
          "base_uri": "https://localhost:8080/",
          "height": 447
        }
      },
      "source": [
        "# Generate a matrix of 10x10 images from an ordered list of labels (10 vectors of 10 identic values from 0 to 9)\n",
        "# The inputs to the model is random noise and the labels as the conditional factor \n",
        "z = Variable(torch.randn(100, 100)).cuda()\n",
        "labels = torch.LongTensor([i for i in range(10) for num in range(10)]).cuda()\n",
        "print(labels)\n",
        "img = model.generator(z, labels).data.cpu()\n",
        "display_batch_images(img)\n",
        "\n"
      ],
      "execution_count": 10,
      "outputs": [
        {
          "output_type": "stream",
          "text": [
            "tensor([0, 0, 0, 0, 0, 0, 0, 0, 0, 0, 1, 1, 1, 1, 1, 1, 1, 1, 1, 1, 2, 2, 2, 2,\n",
            "        2, 2, 2, 2, 2, 2, 3, 3, 3, 3, 3, 3, 3, 3, 3, 3, 4, 4, 4, 4, 4, 4, 4, 4,\n",
            "        4, 4, 5, 5, 5, 5, 5, 5, 5, 5, 5, 5, 6, 6, 6, 6, 6, 6, 6, 6, 6, 6, 7, 7,\n",
            "        7, 7, 7, 7, 7, 7, 7, 7, 8, 8, 8, 8, 8, 8, 8, 8, 8, 8, 9, 9, 9, 9, 9, 9,\n",
            "        9, 9, 9, 9], device='cuda:0')\n"
          ],
          "name": "stdout"
        },
        {
          "output_type": "display_data",
          "data": {
            "image/png": "[encoded data removed]",
            "text/plain": [
              "<PIL.Image.Image image mode=RGB size=342x342 at 0x7FD3A2C8C7F0>"
            ]
          },
          "metadata": {
            "tags": []
          }
        }
      ]
    }
  ]
}
